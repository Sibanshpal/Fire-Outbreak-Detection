{
 "cells": [
  {
   "cell_type": "code",
   "execution_count": 1,
   "metadata": {},
   "outputs": [],
   "source": [
    "import pandas as pd"
   ]
  },
  {
   "cell_type": "code",
   "execution_count": 2,
   "metadata": {},
   "outputs": [],
   "source": [
    "df = pd.read_csv(r'sdcCompiled.csv')"
   ]
  },
  {
   "cell_type": "code",
   "execution_count": 3,
   "metadata": {},
   "outputs": [
    {
     "data": {
      "text/html": [
       "<div>\n",
       "<style scoped>\n",
       "    .dataframe tbody tr th:only-of-type {\n",
       "        vertical-align: middle;\n",
       "    }\n",
       "\n",
       "    .dataframe tbody tr th {\n",
       "        vertical-align: top;\n",
       "    }\n",
       "\n",
       "    .dataframe thead th {\n",
       "        text-align: right;\n",
       "    }\n",
       "</style>\n",
       "<table border=\"1\" class=\"dataframe\">\n",
       "  <thead>\n",
       "    <tr style=\"text-align: right;\">\n",
       "      <th></th>\n",
       "      <th>'TCA_1 '</th>\n",
       "      <th>'TCA_2 '</th>\n",
       "      <th>'TCA_3 '</th>\n",
       "      <th>'TCA_4 '</th>\n",
       "      <th>'TCA_5 '</th>\n",
       "      <th>'TCA_6 '</th>\n",
       "      <th>'TCA_7 '</th>\n",
       "      <th>'TCB_1 '</th>\n",
       "      <th>'TCB_2 '</th>\n",
       "      <th>'TCB_3 '</th>\n",
       "      <th>...</th>\n",
       "      <th>'Ion1A '</th>\n",
       "      <th>'Ion1C '</th>\n",
       "      <th>'Ion1D '</th>\n",
       "      <th>'Ion1BE'</th>\n",
       "      <th>'DiPho2'</th>\n",
       "      <th>'DiIon2'</th>\n",
       "      <th>'DiIon4'</th>\n",
       "      <th>'Load  '</th>\n",
       "      <th>'TCRef '</th>\n",
       "      <th>Label</th>\n",
       "    </tr>\n",
       "  </thead>\n",
       "  <tbody>\n",
       "    <tr>\n",
       "      <td>0</td>\n",
       "      <td>26.5</td>\n",
       "      <td>25.0</td>\n",
       "      <td>24.8</td>\n",
       "      <td>24.8</td>\n",
       "      <td>24.7</td>\n",
       "      <td>24.6</td>\n",
       "      <td>24.4</td>\n",
       "      <td>26.5</td>\n",
       "      <td>26.5</td>\n",
       "      <td>26.2</td>\n",
       "      <td>...</td>\n",
       "      <td>5.25</td>\n",
       "      <td>5.77</td>\n",
       "      <td>6.14</td>\n",
       "      <td>5.95</td>\n",
       "      <td>0.0</td>\n",
       "      <td>0.001</td>\n",
       "      <td>0.0</td>\n",
       "      <td>0.000</td>\n",
       "      <td>23.6</td>\n",
       "      <td>0.0</td>\n",
       "    </tr>\n",
       "    <tr>\n",
       "      <td>1</td>\n",
       "      <td>26.2</td>\n",
       "      <td>25.0</td>\n",
       "      <td>24.9</td>\n",
       "      <td>24.8</td>\n",
       "      <td>24.7</td>\n",
       "      <td>24.6</td>\n",
       "      <td>24.4</td>\n",
       "      <td>26.7</td>\n",
       "      <td>26.5</td>\n",
       "      <td>26.2</td>\n",
       "      <td>...</td>\n",
       "      <td>5.26</td>\n",
       "      <td>5.77</td>\n",
       "      <td>6.12</td>\n",
       "      <td>5.97</td>\n",
       "      <td>0.0</td>\n",
       "      <td>0.001</td>\n",
       "      <td>0.0</td>\n",
       "      <td>0.006</td>\n",
       "      <td>23.6</td>\n",
       "      <td>0.0</td>\n",
       "    </tr>\n",
       "    <tr>\n",
       "      <td>2</td>\n",
       "      <td>26.0</td>\n",
       "      <td>25.0</td>\n",
       "      <td>24.9</td>\n",
       "      <td>24.8</td>\n",
       "      <td>24.7</td>\n",
       "      <td>24.6</td>\n",
       "      <td>24.4</td>\n",
       "      <td>26.6</td>\n",
       "      <td>26.5</td>\n",
       "      <td>26.2</td>\n",
       "      <td>...</td>\n",
       "      <td>5.28</td>\n",
       "      <td>5.77</td>\n",
       "      <td>6.14</td>\n",
       "      <td>5.94</td>\n",
       "      <td>0.0</td>\n",
       "      <td>0.001</td>\n",
       "      <td>0.0</td>\n",
       "      <td>0.006</td>\n",
       "      <td>23.6</td>\n",
       "      <td>0.0</td>\n",
       "    </tr>\n",
       "    <tr>\n",
       "      <td>3</td>\n",
       "      <td>26.5</td>\n",
       "      <td>25.0</td>\n",
       "      <td>24.9</td>\n",
       "      <td>24.8</td>\n",
       "      <td>24.7</td>\n",
       "      <td>24.6</td>\n",
       "      <td>24.4</td>\n",
       "      <td>26.5</td>\n",
       "      <td>26.7</td>\n",
       "      <td>26.2</td>\n",
       "      <td>...</td>\n",
       "      <td>5.27</td>\n",
       "      <td>5.80</td>\n",
       "      <td>6.14</td>\n",
       "      <td>5.96</td>\n",
       "      <td>0.0</td>\n",
       "      <td>0.001</td>\n",
       "      <td>0.0</td>\n",
       "      <td>0.006</td>\n",
       "      <td>23.6</td>\n",
       "      <td>0.0</td>\n",
       "    </tr>\n",
       "    <tr>\n",
       "      <td>4</td>\n",
       "      <td>26.7</td>\n",
       "      <td>25.0</td>\n",
       "      <td>24.9</td>\n",
       "      <td>24.8</td>\n",
       "      <td>24.6</td>\n",
       "      <td>24.6</td>\n",
       "      <td>24.6</td>\n",
       "      <td>26.7</td>\n",
       "      <td>26.6</td>\n",
       "      <td>26.2</td>\n",
       "      <td>...</td>\n",
       "      <td>5.25</td>\n",
       "      <td>5.78</td>\n",
       "      <td>6.15</td>\n",
       "      <td>5.96</td>\n",
       "      <td>0.0</td>\n",
       "      <td>0.001</td>\n",
       "      <td>0.0</td>\n",
       "      <td>0.006</td>\n",
       "      <td>23.6</td>\n",
       "      <td>0.0</td>\n",
       "    </tr>\n",
       "  </tbody>\n",
       "</table>\n",
       "<p>5 rows × 118 columns</p>\n",
       "</div>"
      ],
      "text/plain": [
       "   'TCA_1 '  'TCA_2 '  'TCA_3 '  'TCA_4 '  'TCA_5 '  'TCA_6 '  'TCA_7 '  \\\n",
       "0      26.5      25.0      24.8      24.8      24.7      24.6      24.4   \n",
       "1      26.2      25.0      24.9      24.8      24.7      24.6      24.4   \n",
       "2      26.0      25.0      24.9      24.8      24.7      24.6      24.4   \n",
       "3      26.5      25.0      24.9      24.8      24.7      24.6      24.4   \n",
       "4      26.7      25.0      24.9      24.8      24.6      24.6      24.6   \n",
       "\n",
       "   'TCB_1 '  'TCB_2 '  'TCB_3 '  ...  'Ion1A '  'Ion1C '  'Ion1D '  'Ion1BE'  \\\n",
       "0      26.5      26.5      26.2  ...      5.25      5.77      6.14      5.95   \n",
       "1      26.7      26.5      26.2  ...      5.26      5.77      6.12      5.97   \n",
       "2      26.6      26.5      26.2  ...      5.28      5.77      6.14      5.94   \n",
       "3      26.5      26.7      26.2  ...      5.27      5.80      6.14      5.96   \n",
       "4      26.7      26.6      26.2  ...      5.25      5.78      6.15      5.96   \n",
       "\n",
       "   'DiPho2'  'DiIon2'  'DiIon4'  'Load  '  'TCRef '  Label  \n",
       "0       0.0     0.001       0.0     0.000      23.6    0.0  \n",
       "1       0.0     0.001       0.0     0.006      23.6    0.0  \n",
       "2       0.0     0.001       0.0     0.006      23.6    0.0  \n",
       "3       0.0     0.001       0.0     0.006      23.6    0.0  \n",
       "4       0.0     0.001       0.0     0.006      23.6    0.0  \n",
       "\n",
       "[5 rows x 118 columns]"
      ]
     },
     "execution_count": 3,
     "metadata": {},
     "output_type": "execute_result"
    }
   ],
   "source": [
    "df.head()"
   ]
  },
  {
   "cell_type": "code",
   "execution_count": 4,
   "metadata": {},
   "outputs": [
    {
     "data": {
      "text/plain": [
       "'TCA_1 '    5450\n",
       "'TCA_2 '    5450\n",
       "'TCA_3 '    5450\n",
       "'TCA_4 '    5450\n",
       "'TCA_5 '    5450\n",
       "            ... \n",
       "'DiIon2'    5450\n",
       "'DiIon4'    5450\n",
       "'Load  '    5450\n",
       "'TCRef '    5450\n",
       "Label       5450\n",
       "Length: 118, dtype: int64"
      ]
     },
     "execution_count": 4,
     "metadata": {},
     "output_type": "execute_result"
    }
   ],
   "source": [
    "df.count()"
   ]
  },
  {
   "cell_type": "code",
   "execution_count": 5,
   "metadata": {},
   "outputs": [],
   "source": [
    "from sklearn.model_selection import train_test_split\n",
    "X_train, X_test, y_train, y_test = train_test_split(df.drop(['Label'], axis='columns'), df['Label'], test_size=0.2)"
   ]
  },
  {
   "cell_type": "code",
   "execution_count": 6,
   "metadata": {},
   "outputs": [
    {
     "name": "stderr",
     "output_type": "stream",
     "text": [
      "D:\\Python\\lib\\site-packages\\sklearn\\ensemble\\forest.py:245: FutureWarning: The default value of n_estimators will change from 10 in version 0.20 to 100 in 0.22.\n",
      "  \"10 in version 0.20 to 100 in 0.22.\", FutureWarning)\n"
     ]
    },
    {
     "data": {
      "text/plain": [
       "RandomForestClassifier(bootstrap=True, class_weight=None, criterion='gini',\n",
       "                       max_depth=None, max_features='auto', max_leaf_nodes=None,\n",
       "                       min_impurity_decrease=0.0, min_impurity_split=None,\n",
       "                       min_samples_leaf=1, min_samples_split=2,\n",
       "                       min_weight_fraction_leaf=0.0, n_estimators=10,\n",
       "                       n_jobs=None, oob_score=False, random_state=None,\n",
       "                       verbose=0, warm_start=False)"
      ]
     },
     "execution_count": 6,
     "metadata": {},
     "output_type": "execute_result"
    }
   ],
   "source": [
    "from sklearn.ensemble import RandomForestClassifier\n",
    "model = RandomForestClassifier()\n",
    "model.fit(X_train, y_train)"
   ]
  },
  {
   "cell_type": "code",
   "execution_count": 7,
   "metadata": {},
   "outputs": [
    {
     "data": {
      "text/plain": [
       "0.9990825688073395"
      ]
     },
     "execution_count": 7,
     "metadata": {},
     "output_type": "execute_result"
    }
   ],
   "source": [
    "model.score(X_test, y_test)"
   ]
  },
  {
   "cell_type": "code",
   "execution_count": 8,
   "metadata": {},
   "outputs": [],
   "source": [
    "y_predicted = model.predict(X_test)"
   ]
  },
  {
   "cell_type": "code",
   "execution_count": 9,
   "metadata": {},
   "outputs": [
    {
     "data": {
      "text/plain": [
       "array([[252,   0],\n",
       "       [  1, 837]], dtype=int64)"
      ]
     },
     "execution_count": 9,
     "metadata": {},
     "output_type": "execute_result"
    }
   ],
   "source": [
    "from sklearn.metrics import confusion_matrix\n",
    "cm = confusion_matrix(y_test, y_predicted)\n",
    "cm"
   ]
  },
  {
   "cell_type": "code",
   "execution_count": 15,
   "metadata": {},
   "outputs": [
    {
     "data": {
      "image/png": "[encoded data removed]",
      "text/plain": [
       "<Figure size 720x720 with 2 Axes>"
      ]
     },
     "metadata": {
      "needs_background": "light"
     },
     "output_type": "display_data"
    }
   ],
   "source": [
    "%matplotlib inline\n",
    "import matplotlib.pyplot as plt\n",
    "import seaborn as sns\n",
    "plt.figure(figsize=(10,10))\n",
    "sns.heatmap(cm, annot=True, linewidths=1, fmt='d')\n",
    "plt.xlabel('Predicted')\n",
    "plt.ylabel('Truth')\n",
    "plt.title('Confusion matrix: Random Forest Classifier')\n",
    "plt.show()"
   ]
  },
  {
   "cell_type": "code",
   "execution_count": 11,
   "metadata": {},
   "outputs": [
    {
     "data": {
      "text/plain": [
       "0.03168695082101997"
      ]
     },
     "execution_count": 11,
     "metadata": {},
     "output_type": "execute_result"
    }
   ],
   "source": [
    "from sklearn.metrics import log_loss\n",
    "log_loss(y_test,y_predicted)"
   ]
  },
  {
   "cell_type": "code",
   "execution_count": 13,
   "metadata": {},
   "outputs": [
    {
     "name": "stdout",
     "output_type": "stream",
     "text": [
      "0.9999526461340303\n"
     ]
    }
   ],
   "source": [
    "pred_prob1 = model.predict_proba(X_test)\n",
    "from sklearn.metrics import roc_curve\n",
    "from sklearn.metrics import roc_auc_score\n",
    "\n",
    "# roc curve for models\n",
    "fpr1, tpr1, thresh1 = roc_curve(y_test, pred_prob1[:,1], pos_label=1)\n",
    "random_probs = [0 for i in range(len(y_test))]\n",
    "p_fpr, p_tpr, _ = roc_curve(y_test, random_probs, pos_label=1)\n",
    "auc_score1 = roc_auc_score(y_test, pred_prob1[:,1])\n",
    "print(auc_score1)"
   ]
  },
  {
   "cell_type": "code",
   "execution_count": 14,
   "metadata": {},
   "outputs": [
    {
     "data": {
      "image/png": "[encoded data removed]",
      "text/plain": [
       "<Figure size 576x396 with 1 Axes>"
      ]
     },
     "metadata": {},
     "output_type": "display_data"
    }
   ],
   "source": [
    "import matplotlib.pyplot as plt\n",
    "plt.style.use('seaborn')\n",
    "\n",
    "# plot roc curves\n",
    "plt.plot(fpr1, tpr1, linestyle='--',color='orange', label='Logistic Regression')\n",
    "#plt.plot(fpr2, tpr2, linestyle='--',color='green', label='KNN')\n",
    "plt.plot(p_fpr, p_tpr, linestyle='--', color='blue')\n",
    "# title\n",
    "plt.title('ROC curve')\n",
    "# x label\n",
    "plt.xlabel('False Positive Rate')\n",
    "# y label\n",
    "plt.ylabel('True Positive rate')\n",
    "\n",
    "plt.legend(loc='best')\n",
    "plt.savefig('ROC',dpi=300)\n",
    "plt.show();"
   ]
  },
  {
   "cell_type": "code",
   "execution_count": null,
   "metadata": {},
   "outputs": [],
   "source": []
  },
  {
   "cell_type": "code",
   "execution_count": null,
   "metadata": {},
   "outputs": [],
   "source": []
  }
 ],
 "metadata": {
  "kernelspec": {
   "display_name": "Python 3",
   "language": "python",
   "name": "python3"
  },
  "language_info": {
   "codemirror_mode": {
    "name": "ipython",
    "version": 3
   },
   "file_extension": ".py",
   "mimetype": "text/x-python",
   "name": "python",
   "nbconvert_exporter": "python",
   "pygments_lexer": "ipython3",
   "version": "3.7.4"
  }
 },
 "nbformat": 4,
 "nbformat_minor": 2
}
